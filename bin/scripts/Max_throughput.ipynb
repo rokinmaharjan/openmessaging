{
  "nbformat": 4,
  "nbformat_minor": 0,
  "metadata": {
    "colab": {
      "provenance": []
    },
    "kernelspec": {
      "name": "python3",
      "display_name": "Python 3"
    },
    "language_info": {
      "name": "python"
    }
  },
  "cells": [
    {
      "cell_type": "code",
      "source": [
        "# import os\n",
        "# from google.colab import drive\n",
        "\n",
        "# # Mount Google Drive\n",
        "# drive.mount('/content/drive')\n",
        "\n",
        "# # Set the directory path that you want to delete files from\n",
        "# dir_path = '/content/drive/MyDrive/json_files2/'\n",
        "\n",
        "# # Set the file prefix that you want to delete\n",
        "# file_prefix = 'max_'\n",
        "\n",
        "# # Loop through all files and directories in the specified directory path\n",
        "# for root, dirs, files in os.walk(dir_path):\n",
        "#     for file in files:\n",
        "#         # Check if the file starts with the specified file prefix\n",
        "#         if file.startswith(file_prefix):\n",
        "#             # Get the full file path\n",
        "#             file_path = os.path.join(root, file)\n",
        "#             # Delete the file\n",
        "#             os.remove(file_path)\n",
        "#             print(f\"{file_path} deleted.\")\n"
      ],
      "metadata": {
        "id": "AKlbFemYDcPc"
      },
      "execution_count": null,
      "outputs": []
    },
    {
      "cell_type": "code",
      "execution_count": null,
      "metadata": {
        "colab": {
          "base_uri": "https://localhost:8080/"
        },
        "id": "k_9RDfggB6UI",
        "outputId": "f65b22fc-069b-4581-b1f3-ae7463d5b10d"
      },
      "outputs": [
        {
          "output_type": "stream",
          "name": "stdout",
          "text": [
            "Drive already mounted at /content/drive; to attempt to forcibly remount, call drive.mount(\"/content/drive\", force_remount=True).\n"
          ]
        }
      ],
      "source": [
        "import json\n",
        "import os\n",
        "from google.colab import drive\n",
        "\n",
        "drive.mount('/content/drive')\n",
        "json_dir = '/content/drive/MyDrive/json_files_2/'\n",
        "\n",
        "throughput_dict = {}\n",
        "\n",
        "for subdir, dirs, files in os.walk(json_dir):\n",
        "    for file in files:\n",
        "        if file.endswith('.json'):\n",
        "            file_path = os.path.join(subdir, file)\n",
        "            with open(file_path) as f:\n",
        "                data = json.load(f)\n",
        "                new_data = {}\n",
        "                messageSize = None\n",
        "                driver = None\n",
        "                for key, value in data.items():\n",
        "                    if key == \"messageSize\":\n",
        "                        messageSize = value\n",
        "                        new_data[key] = value\n",
        "                        if str(messageSize) not in throughput_dict:\n",
        "                          throughput_dict[str(messageSize)] = []\n",
        "                          continue\n",
        "                    elif key == \"driver\":\n",
        "                      driver = value\n",
        "                      continue\n",
        "                    if isinstance(value, list):\n",
        "                        new_data[key] = max(value)\n",
        "                        if key == \"publishRate\":\n",
        "                            new_data[key] *= messageSize\n",
        "                            new_data[key] /= (1024 * 1024)\n",
        "                            throughput_dict[str(messageSize)].append({driver: new_data[key]})\n",
        "                    else:\n",
        "                        new_data[key] = value\n",
        "                # set the path to the new file with the same name as the original file\n",
        "                # new_file_path = os.path.join(subdir, f'max_{file}')\n",
        "                # with open(new_file_path, 'w') as new_f:\n",
        "                #     json.dump(new_data, new_f)\n"
      ]
    },
    {
      "cell_type": "code",
      "source": [
        "%cd /content/drive/MyDrive/Latency/latency_graphs/\n",
        "# !pwd\n",
        "!mkdir new_throughput\n",
        "%cd new_throughput\n",
        "# !pwd"
      ],
      "metadata": {
        "colab": {
          "base_uri": "https://localhost:8080/"
        },
        "id": "NbGnw5u0Xhxi",
        "outputId": "f6c5e7d4-922c-40bf-b38a-c61f01461134"
      },
      "execution_count": null,
      "outputs": [
        {
          "output_type": "stream",
          "name": "stdout",
          "text": [
            "/content/drive/MyDrive/Latency/latency_graphs\n",
            "mkdir: cannot create directory ‘new_throughput’: File exists\n",
            "/content/drive/MyDrive/Latency/latency_graphs/new_throughput\n"
          ]
        }
      ]
    },
    {
      "cell_type": "code",
      "source": [
        "sorted_dict = dict(sorted(throughput_dict.items(), key=lambda x: int(x[0])))\n",
        "for k, v in sorted_dict.items():\n",
        "    sorted_dict[k] = sorted(v, key=lambda x: list(x.values())[0])"
      ],
      "metadata": {
        "id": "TiGtrCBaEvxZ"
      },
      "execution_count": null,
      "outputs": []
    },
    {
      "cell_type": "code",
      "source": [
        "# print(file_sizes)"
      ],
      "metadata": {
        "id": "-AG_HFymMLf9"
      },
      "execution_count": null,
      "outputs": []
    },
    {
      "cell_type": "code",
      "source": [
        "file_sizes = sorted_dict.keys()\n",
        "artemis = []\n",
        "rabbitmq = []\n",
        "redis = []\n",
        "new_dict = {'Artemis': 0, 'RabbitMQ': 1, 'Redis': 2}\n",
        "file_sizes = list(file_sizes)\n",
        "\n",
        "for size in file_sizes:\n",
        "    key = size\n",
        "    values = sorted_dict[str(key)]\n",
        "    for litem in values:\n",
        "      for nkey, val in litem.items():\n",
        "        idx = new_dict[nkey]\n",
        "        if idx == 0: \n",
        "          artemis.append(round(val, 2))\n",
        "        if idx == 1: \n",
        "          rabbitmq.append(round(val, 2))\n",
        "        if idx == 2: \n",
        "          redis.append(round(val, 2))"
      ],
      "metadata": {
        "id": "5IWGy1tlF-bA"
      },
      "execution_count": null,
      "outputs": []
    },
    {
      "cell_type": "code",
      "source": [
        "rabbitmq"
      ],
      "metadata": {
        "id": "cEhQwANJ6kYl",
        "colab": {
          "base_uri": "https://localhost:8080/"
        },
        "outputId": "13035c64-8d7f-40aa-d9cd-5cdf3394661f"
      },
      "execution_count": null,
      "outputs": [
        {
          "output_type": "execute_result",
          "data": {
            "text/plain": [
              "[0.88, 8.71, 81.45, 553.64, 1237.41, 1779.45]"
            ]
          },
          "metadata": {},
          "execution_count": 22
        }
      ]
    },
    {
      "cell_type": "code",
      "source": [
        "artemis"
      ],
      "metadata": {
        "colab": {
          "base_uri": "https://localhost:8080/"
        },
        "id": "aA_cCLhqgAUH",
        "outputId": "d32ae9ef-3182-496e-daf0-574c46beb106"
      },
      "execution_count": null,
      "outputs": [
        {
          "output_type": "execute_result",
          "data": {
            "text/plain": [
              "[0.07, 0.76, 5.74, 13.67, 19.01, 2.08]"
            ]
          },
          "metadata": {},
          "execution_count": 23
        }
      ]
    },
    {
      "cell_type": "code",
      "source": [
        "redis"
      ],
      "metadata": {
        "colab": {
          "base_uri": "https://localhost:8080/"
        },
        "id": "A3xf7BmJgDB2",
        "outputId": "559768be-e30f-432c-9c88-2541a96dd195"
      },
      "execution_count": null,
      "outputs": [
        {
          "output_type": "execute_result",
          "data": {
            "text/plain": [
              "[0.33, 2.78, 27.08, 123.29, 161.07, 210.71]"
            ]
          },
          "metadata": {},
          "execution_count": 24
        }
      ]
    },
    {
      "cell_type": "code",
      "source": [
        "import numpy as np\n",
        "import matplotlib.pyplot as plt\n",
        "from matplotlib.lines import Line2D\n",
        "import matplotlib.ticker as ticker"
      ],
      "metadata": {
        "id": "zmMf7WixL98j"
      },
      "execution_count": null,
      "outputs": []
    },
    {
      "cell_type": "code",
      "source": [
        "artemis"
      ],
      "metadata": {
        "colab": {
          "base_uri": "https://localhost:8080/"
        },
        "id": "fxnl2Ypqet1E",
        "outputId": "856d6bba-b22a-41ef-d816-8ad6ff60c0cd"
      },
      "execution_count": null,
      "outputs": [
        {
          "output_type": "execute_result",
          "data": {
            "text/plain": [
              "[0.07, 0.76, 5.74, 13.67, 19.01, 2.08]"
            ]
          },
          "metadata": {},
          "execution_count": 26
        }
      ]
    },
    {
      "cell_type": "code",
      "source": [
        "rabbitmq"
      ],
      "metadata": {
        "colab": {
          "base_uri": "https://localhost:8080/"
        },
        "id": "j9LPFSWzev_j",
        "outputId": "399a635a-c6b9-40e4-8bce-fc83782383b5"
      },
      "execution_count": null,
      "outputs": [
        {
          "output_type": "execute_result",
          "data": {
            "text/plain": [
              "[0.88, 8.71, 81.45, 553.64, 1237.41, 1779.45]"
            ]
          },
          "metadata": {},
          "execution_count": 27
        }
      ]
    },
    {
      "cell_type": "code",
      "source": [
        "redis"
      ],
      "metadata": {
        "colab": {
          "base_uri": "https://localhost:8080/"
        },
        "id": "EoHCj4leex8t",
        "outputId": "6eb55217-9e79-4b9b-90c8-3dd16374c42d"
      },
      "execution_count": null,
      "outputs": [
        {
          "output_type": "execute_result",
          "data": {
            "text/plain": [
              "[0.33, 2.78, 27.08, 123.29, 161.07, 210.71]"
            ]
          },
          "metadata": {},
          "execution_count": 28
        }
      ]
    },
    {
      "cell_type": "code",
      "source": [
        "file_sizes"
      ],
      "metadata": {
        "colab": {
          "base_uri": "https://localhost:8080/"
        },
        "id": "1JOak0WT8BUc",
        "outputId": "640293a2-e26e-4cdd-dd12-b50224fda555"
      },
      "execution_count": null,
      "outputs": [
        {
          "output_type": "execute_result",
          "data": {
            "text/plain": [
              "['10', '100', '1024', '10240', '51200', '102400']"
            ]
          },
          "metadata": {},
          "execution_count": 29
        }
      ]
    },
    {
      "cell_type": "code",
      "source": [
        "bar_width = 0.25\n",
        "r1 = np.arange(len(file_sizes))\n",
        "r2 = [x + bar_width for x in r1]\n",
        "r3 = [x + bar_width for x in r2]\n",
        "\n",
        "# file_sizes = ['100B', '200B', '400B', '1KB', '2KB', '4KB']\n",
        "file_sizes = ['10B', '100B', '1KB', '10KB', '50KB', '100KB']\n",
        "\n",
        "\n",
        "fig, ax = plt.subplots(figsize=(12, 12))\n",
        "\n",
        "# Make the plot\n",
        "artemis_bars = ax.bar(r1, artemis, color='#C3ECB2', width=bar_width, edgecolor='white', label='Artemis')\n",
        "rabbitmq_bars = ax.bar(r2, rabbitmq, color='#FFF2AF', width=bar_width, edgecolor='white', label='RabbitMQ')\n",
        "redis_bars = ax.bar(r3, redis, color='#AADAFF', width=bar_width, edgecolor='white', label='Redis')\n",
        "\n",
        "# Add xticks on the middle of the group bars\n",
        "ax.set_xlabel('Data Size', fontweight='bold')\n",
        "ax.set_ylabel('Throughput (MB/s)', fontweight='bold')\n",
        "\n",
        "# ax.set_xlabel('Message Size in Bytes', fontweight='bold')\n",
        "# ax.set_ylabel('Throughput in Events/Seconds', fontweight='bold')\n",
        "\n",
        "ax.set_xticks([r + bar_width for r in range(len(file_sizes))])\n",
        "ax.set_xticklabels(file_sizes)\n",
        "ax.xaxis.labelpad = 7\n",
        "# ax.legend(loc='upper left')\n",
        "\n",
        "y_values = [artemis, rabbitmq, redis]\n",
        "legend_colors = ['#C3ECB2', '#FFF2AF', '#AADAFF']\n",
        "\n",
        "# Create custom legend rows\n",
        "legend_rows = [Line2D([0], [0], color=color, linewidth=4, linestyle='-') for color in legend_colors]\n",
        "\n",
        "ax.table(cellText=y_values,\n",
        "         rowLabels=['Artemis', 'RabbitMQ', 'Redis'],\n",
        "         rowColours=legend_colors,\n",
        "         cellLoc='center',\n",
        "         rowLoc='left',\n",
        "         loc='bottom',\n",
        "         bbox=[0, -0.29, 1, 0.2],\n",
        "         colWidths=[0.1] * len(file_sizes),\n",
        "         colLabels=file_sizes)\n",
        "\n",
        "\n",
        "y_min = min([min(lst) for lst in [artemis, rabbitmq, redis]])\n",
        "y_max = max([max(lst) for lst in [artemis, rabbitmq, redis]])\n",
        "\n",
        "# plt.yticks(np.arange(0, y_max, 5000.0))\n",
        "\n",
        "# y_min = 0.07\n",
        "# y_max = 260\n",
        "ax.set_yscale('log')\n",
        "\n",
        "# y_ticks = [y_min] + [1, 5, 15, 30, 50, 90, 180, 250]\n",
        "y_ticks = [2**i for i in range(int(np.floor(np.log2(y_min))), int(np.ceil(np.log2(y_max))))] + [y_max]\n",
        "y_tick_labels = [f\"{y:.2f}\" for y in y_ticks]\n",
        "ax.set_yticks(y_ticks)\n",
        "ax.set_yticklabels(y_tick_labels)\n",
        "\n",
        "\n",
        "# Adjust spacing between subplots\n",
        "plt.subplots_adjust(bottom=0.3)\n",
        "\n",
        "# Show plot\n",
        "# plt.show()\n",
        "\n",
        "plt.savefig('new_max_throughput.pdf', dpi=300, bbox_inches='tight', facecolor='white')\n",
        "# plt.savefig('old_throughput.png', dpi=300, bbox_inches='tight', facecolor='white')\n",
        "\n"
      ],
      "metadata": {
        "colab": {
          "base_uri": "https://localhost:8080/",
          "height": 934
        },
        "id": "JLAin-w4CLIh",
        "outputId": "43a7e4ec-c50a-44ba-e1bc-f80050d4c9e6"
      },
      "execution_count": null,
      "outputs": [
        {
          "output_type": "display_data",
          "data": {
            "text/plain": [
              "<Figure size 1200x1200 with 1 Axes>"
            ],
            "image/png": "[encoded data removed]"
          },
          "metadata": {}
        }
      ]
    }
  ]
}